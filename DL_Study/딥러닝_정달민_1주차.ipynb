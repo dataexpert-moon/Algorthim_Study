{
  "nbformat": 4,
  "nbformat_minor": 0,
  "metadata": {
    "colab": {
      "provenance": [],
      "collapsed_sections": [
        "mQDuLSLVBJr1",
        "67ZSV94ACoKT",
        "a4aLLy7OEXaY",
        "OEq3Mh8AG8QV",
        "_9IFHThoH3C-",
        "aqYhs_HaKTU3",
        "3j4DCIPrLeJP",
        "8i7R8oBAMqiT",
        "R4BjISumO7qj",
        "qEuT8UHhOKRn",
        "xo7otdU9PRn-",
        "aDiFmlfXSBgU",
        "W9aN_oXHSjuN",
        "1PsI0Zp_TuIC",
        "TmT8MJiaWpMS",
        "9i3FfLgiW453",
        "CfP_8MohXed5",
        "0aPruJHKaxwS",
        "azb1UgpIaxwS",
        "JCR7w54faxwT",
        "yjT3yWn-axwX"
      ],
      "authorship_tag": "ABX9TyPISSwHNet84+7x/IitQFc0",
      "include_colab_link": true
    },
    "kernelspec": {
      "name": "python3",
      "display_name": "Python 3"
    },
    "language_info": {
      "name": "python"
    },
    "accelerator": "GPU",
    "gpuClass": "standard"
  },
  "cells": [
    {
      "cell_type": "markdown",
      "metadata": {
        "id": "view-in-github",
        "colab_type": "text"
      },
      "source": [
        "<a href=\"https://colab.research.google.com/github/dataexpert-moon/Algorthim_Study/blob/demo-repo/DL_Study/%EB%94%A5%EB%9F%AC%EB%8B%9D_%EC%A0%95%EB%8B%AC%EB%AF%BC_1%EC%A3%BC%EC%B0%A8.ipynb\" target=\"_parent\"><img src=\"https://colab.research.google.com/assets/colab-badge.svg\" alt=\"Open In Colab\"/></a>"
      ]
    },
    {
      "cell_type": "markdown",
      "source": [
        "## 밑바닥부터 시작하는 딥러닝1 **Chapter 1 헬로 파이썬** 코드 복습 내용입니다.\n",
        "\n",
        "\n"
      ],
      "metadata": {
        "id": "7YpEKdabQnMh"
      }
    },
    {
      "cell_type": "markdown",
      "source": [
        "### 1.3 파이썬 인터프리터\n",
        "- 파이썬 기초적인 문법을 다룹니다."
      ],
      "metadata": {
        "id": "mQDuLSLVBJr1"
      }
    },
    {
      "cell_type": "markdown",
      "source": [
        "##### 1.3.0 파이썬 버전 확인"
      ],
      "metadata": {
        "id": "67ZSV94ACoKT"
      }
    },
    {
      "cell_type": "markdown",
      "source": [
        "![image.png](data:image/png;base64,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)"
      ],
      "metadata": {
        "id": "mY13uABJB_E8"
      }
    },
    {
      "cell_type": "code",
      "source": [],
      "metadata": {
        "id": "YIpttg4rEQCW"
      },
      "execution_count": null,
      "outputs": []
    },
    {
      "cell_type": "markdown",
      "source": [],
      "metadata": {
        "id": "I0VdswrWEWZ5"
      }
    },
    {
      "cell_type": "markdown",
      "source": [
        "##### 1.3.1 산술 연산"
      ],
      "metadata": {
        "id": "a4aLLy7OEXaY"
      }
    },
    {
      "cell_type": "code",
      "source": [
        "print(1 - 2) # -는 뺄셈\n",
        "print(4 * 5) # *은 곱셈\n",
        "print(7 / 5) # /는 나눗셈\n",
        "print(3 ** 2) # **은 거듭제곱"
      ],
      "metadata": {
        "colab": {
          "base_uri": "https://localhost:8080/"
        },
        "id": "p1kJUjuMEdWW",
        "outputId": "52805f09-d3a2-4ef7-f2cc-a69ccf5ddd8d"
      },
      "execution_count": 5,
      "outputs": [
        {
          "output_type": "stream",
          "name": "stdout",
          "text": [
            "-1\n",
            "20\n",
            "1.4\n",
            "9\n"
          ]
        }
      ]
    },
    {
      "cell_type": "markdown",
      "source": [
        "##### 1.3.2 자료형"
      ],
      "metadata": {
        "id": "OEq3Mh8AG8QV"
      }
    },
    {
      "cell_type": "code",
      "source": [
        "print(type(10)) # int\n",
        "print(type(2.718)) # float\n",
        "print(type(\"hello\")) # str\n",
        "\n",
        "# 자료형은 데이터의 성질을 나타내는 것\n",
        "# type() 함수는 특정 데이터의 자료형을 알아볼 수 있는 함수"
      ],
      "metadata": {
        "colab": {
          "base_uri": "https://localhost:8080/"
        },
        "id": "dY4Wuf2EG-Z0",
        "outputId": "679d20bb-fcb9-4149-cd72-47db8feb66ad"
      },
      "execution_count": 8,
      "outputs": [
        {
          "output_type": "stream",
          "name": "stdout",
          "text": [
            "<class 'int'>\n",
            "<class 'float'>\n",
            "<class 'str'>\n"
          ]
        }
      ]
    },
    {
      "cell_type": "markdown",
      "source": [
        "##### 1.3.3 변수"
      ],
      "metadata": {
        "id": "_9IFHThoH3C-"
      }
    },
    {
      "cell_type": "code",
      "source": [
        "x = 10 # 초기화\n",
        "print(x) # x의 값 출력\n",
        "\n",
        "x= 100 # x 변수에 값 대입\n",
        "print(x) \n",
        "\n",
        "y = 3.14 # 초기화\n",
        "print(x * y)\n",
        "\n",
        "print(type(x + y)) # 자료형 확인\n",
        "\n",
        "# 알파벳을 사용하여 변수 정의 가능"
      ],
      "metadata": {
        "colab": {
          "base_uri": "https://localhost:8080/"
        },
        "id": "6VIDA_tEH8Qq",
        "outputId": "7f7d73aa-36eb-44a7-e25c-46fcbc25f70f"
      },
      "execution_count": 13,
      "outputs": [
        {
          "output_type": "stream",
          "name": "stdout",
          "text": [
            "10\n",
            "100\n",
            "314.0\n",
            "<class 'float'>\n"
          ]
        }
      ]
    },
    {
      "cell_type": "markdown",
      "source": [
        "##### 1.3.4 리스트"
      ],
      "metadata": {
        "id": "aqYhs_HaKTU3"
      }
    },
    {
      "cell_type": "code",
      "source": [
        "a = [1, 2, 3, 4, 5] # 리스트 생성\n",
        "print(a) # 리스트의 내용 출력\n",
        "\n",
        "print(len(a)) # 리스트의 길이 출력\n",
        " \n",
        "print(a[0]) # 첫 원소에 접근\n",
        "\n",
        "print(a[4]) # 다섯 번째 원소에 접근\n",
        "\n",
        "a[4] = 99 # 값 대입\n",
        "print(a) \n",
        "\n",
        "# 리스트에는 슬라이싱 기법 존재\n",
        "\n",
        "print(a[0:2]) # 인덱스 0부터 2까지 얻기(2번째는 포함하지 않는다)\n",
        "print(a[1:]) # 인덱스 1부터 끝까지 얻기\n",
        "print(a[:3]) # 처음부터 인덱스 3까지 얻기(3번쨰는 포함하지 않는다)\n",
        "print(a[:-1]) # 처음부터 마지막 원소의 1개 앞까지 얻기\n",
        "print(a[:-2]) # 처음부터 마지막 원소의 2개 앞까지 얻기\n"
      ],
      "metadata": {
        "colab": {
          "base_uri": "https://localhost:8080/"
        },
        "id": "Sk-CgOw-KSeV",
        "outputId": "f9dd274a-1969-48ed-a771-0813dc8020a2"
      },
      "execution_count": 16,
      "outputs": [
        {
          "output_type": "stream",
          "name": "stdout",
          "text": [
            "[1, 2, 3, 4, 5]\n",
            "5\n",
            "1\n",
            "5\n",
            "[1, 2, 3, 4, 99]\n",
            "[1, 2]\n",
            "[2, 3, 4, 99]\n",
            "[1, 2, 3]\n",
            "[1, 2, 3, 4]\n",
            "[1, 2, 3]\n"
          ]
        }
      ]
    },
    {
      "cell_type": "markdown",
      "source": [
        "##### 1.3.5 딕셔너리"
      ],
      "metadata": {
        "id": "3j4DCIPrLeJP"
      }
    },
    {
      "cell_type": "code",
      "source": [
        "me = {'height':180} # 딕셔너리 생성\n",
        "print(me['height']) # 원소에 접근\n",
        "\n",
        "me['weight'] = 70 # 새 원소 추가\n",
        "print(me)\n",
        "\n",
        "# 딕서너리는 키(key)와 값(value) 한 쌍을 지정"
      ],
      "metadata": {
        "colab": {
          "base_uri": "https://localhost:8080/"
        },
        "id": "KJKoeCkiLj6Y",
        "outputId": "4ed182e8-a22e-4995-c528-13b80cca17ab"
      },
      "execution_count": 17,
      "outputs": [
        {
          "output_type": "stream",
          "name": "stdout",
          "text": [
            "180\n",
            "{'height': 180, 'weight': 70}\n"
          ]
        }
      ]
    },
    {
      "cell_type": "markdown",
      "source": [
        "##### 1.3.6 bool"
      ],
      "metadata": {
        "id": "8i7R8oBAMqiT"
      }
    },
    {
      "cell_type": "code",
      "source": [
        "hungry = True # 배가 고프다\n",
        "sleepy = False # 졸리지 않다\n",
        "\n",
        "print(type(hungry)) # 자료형 출력\n",
        "print(not hungry) # False\n",
        "\n",
        "print(hungry and sleepy) # 배가 고프다 그리고 졸리지 않다.\n",
        "print(hungry or sleepy) # 배가 고프다 또는 졸리지 않다.\n",
        "\n",
        "# bool(자료형)은 True(참)와 False(거짓)라는 두 값 중 하나를 가진다\n",
        "# bool에는 and, or, not 연산자 사용이 가능하다"
      ],
      "metadata": {
        "colab": {
          "base_uri": "https://localhost:8080/"
        },
        "id": "xLnwGkAeM3Gd",
        "outputId": "1bcc407b-d547-4d56-9560-1a4eaca8fedc"
      },
      "execution_count": 18,
      "outputs": [
        {
          "output_type": "stream",
          "name": "stdout",
          "text": [
            "<class 'bool'>\n",
            "False\n",
            "False\n",
            "True\n"
          ]
        }
      ]
    },
    {
      "cell_type": "markdown",
      "source": [
        "##### 1.3.7 if 문"
      ],
      "metadata": {
        "id": "R4BjISumO7qj"
      }
    },
    {
      "cell_type": "code",
      "source": [
        "# 조건 1\n",
        "hungry = True\n",
        "if hungry:\n",
        "    print(\"I'm hungry\")\n",
        "\n",
        "# 조건 2\n",
        "hungry = False\n",
        "if hungry:\n",
        "    print(\"i'm hungry\")\n",
        "else:\n",
        "    print(\"I'm not hungry\")\n",
        "    print(\"I'm sleepy\")\n",
        "\n",
        "# 조건에 따라서 달리 처리하려면 if/else문을 사용한다."
      ],
      "metadata": {
        "colab": {
          "base_uri": "https://localhost:8080/"
        },
        "outputId": "f7f23c39-b154-4587-96e6-cd945915169a",
        "id": "Wd5MuOJqO7qv"
      },
      "execution_count": null,
      "outputs": [
        {
          "output_type": "stream",
          "name": "stdout",
          "text": [
            "I'm hungry\n",
            "I'm not hungry\n",
            "I'm sleepy\n"
          ]
        }
      ]
    },
    {
      "cell_type": "markdown",
      "source": [
        "##### 1.3.8 for 문"
      ],
      "metadata": {
        "id": "qEuT8UHhOKRn"
      }
    },
    {
      "cell_type": "code",
      "source": [
        "for i in [1, 2, 3]: \n",
        "    print(i)\n",
        "\n",
        "# 반복 처리에는 for 문을 사용한다\n",
        "# for...in...  구문을 사용하면 리스트 등 데이터 집합의 각 원소에 차례대로 접근할 수 있다"
      ],
      "metadata": {
        "colab": {
          "base_uri": "https://localhost:8080/"
        },
        "id": "PUWGE1e8OeKh",
        "outputId": "fa3db561-180e-49e4-cf87-140025c5a11c"
      },
      "execution_count": 20,
      "outputs": [
        {
          "output_type": "stream",
          "name": "stdout",
          "text": [
            "1\n",
            "2\n",
            "3\n"
          ]
        }
      ]
    },
    {
      "cell_type": "markdown",
      "source": [
        "##### 1.3.9 함수"
      ],
      "metadata": {
        "id": "xo7otdU9PRn-"
      }
    },
    {
      "cell_type": "code",
      "source": [
        "def hello(): # hello 함수 정의\n",
        "    print(\"Hello World!\")\n",
        "\n",
        "hello() # hello 함수 호출\n",
        "\n",
        "# 특정 기능을 수행하는 일련의 명령들을 묶어 \"함수\"로 정의가 가능하다"
      ],
      "metadata": {
        "colab": {
          "base_uri": "https://localhost:8080/"
        },
        "outputId": "ed05ebd0-b065-42b5-dbdc-b73dcbc2d7ba",
        "id": "BCVElZh5PRn-"
      },
      "execution_count": 21,
      "outputs": [
        {
          "output_type": "stream",
          "name": "stdout",
          "text": [
            "Hello World!\n"
          ]
        }
      ]
    },
    {
      "cell_type": "code",
      "source": [
        "def hello(object): # 인수가 1개인 hello 함수 정의\n",
        "    print(\"Hello \" + object + \"!\")  # '+'연산자 사용하여 문자열을 붙일 수 있다\n",
        "hello(\"cat\") # hello 함수 호출\n",
        "\n",
        "# 함수는 인수를 여러개 가질 수 있다"
      ],
      "metadata": {
        "colab": {
          "base_uri": "https://localhost:8080/"
        },
        "id": "4c-2KoNJPmSa",
        "outputId": "d9879a74-1984-44bc-b8eb-3757e5b11bc7"
      },
      "execution_count": 23,
      "outputs": [
        {
          "output_type": "stream",
          "name": "stdout",
          "text": [
            "Hello cat!\n"
          ]
        }
      ]
    },
    {
      "cell_type": "markdown",
      "source": [
        "### 1.4 파이썬 스크립트 파일\n",
        "\n",
        "- 파이썬 프로그램을 파일로 저장하고 그 파일을 함께 실행하는 방법을 다룹니다."
      ],
      "metadata": {
        "id": "aDiFmlfXSBgU"
      }
    },
    {
      "cell_type": "markdown",
      "source": [
        "##### 1.4.1 파일로 저장하기"
      ],
      "metadata": {
        "id": "W9aN_oXHSjuN"
      }
    },
    {
      "cell_type": "code",
      "source": [
        "print(\"I'm  hungry!\") \n",
        "\n",
        "# hungry.py로 파일 생성"
      ],
      "metadata": {
        "colab": {
          "base_uri": "https://localhost:8080/"
        },
        "id": "LA7oA7SdUegq",
        "outputId": "fc91fc2e-b20a-4dae-a509-14b2b5e89309"
      },
      "execution_count": 27,
      "outputs": [
        {
          "output_type": "stream",
          "name": "stdout",
          "text": [
            "I'm  hungry!\n"
          ]
        }
      ]
    },
    {
      "cell_type": "markdown",
      "source": [
        "![image.png](data:image/png;base64,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)"
      ],
      "metadata": {
        "id": "7g_-D9_ASmMV"
      }
    },
    {
      "cell_type": "markdown",
      "source": [
        "##### 1.4.2 클래스"
      ],
      "metadata": {
        "id": "1PsI0Zp_TuIC"
      }
    },
    {
      "cell_type": "code",
      "source": [
        "class Man:\n",
        "    def __init__(self, name):\n",
        "        self.name = name\n",
        "        print(\"Initialized!\")\n",
        "        \n",
        "    def hello(self):\n",
        "        print(\"hello \" + self.name + \"!\")\n",
        "\n",
        "    def goodbye(self):\n",
        "        print(\"Good-bye \" + self.name + \"!\")\n",
        "\n",
        "\n",
        "m = Man(\"David\")\n",
        "m.hello()\n",
        "m.goodbye()\n",
        "\n",
        "# man.py로 파일 생성\n",
        "\n",
        "# 클래스를 초기화하는 방법 __init__(생성자)\n",
        "# 클래스의 인스턴스가 만들어질 떄 한 번만 부른다\n",
        "# 파이썬에서는 메서드의 첫 번째 인수로 \n",
        "# 자신(자신의 인스턴스)를 나타내는 self를 명시적으로 쓰는 것이 원칙\n",
        "# 인스턴스 변수는 self 다음에 속성 이름을 쓴다\n",
        "\n"
      ],
      "metadata": {
        "colab": {
          "base_uri": "https://localhost:8080/"
        },
        "id": "H2R-Zzc3TzbD",
        "outputId": "9fd7c952-9327-4920-bee9-dd8fb3628e42"
      },
      "execution_count": 28,
      "outputs": [
        {
          "output_type": "stream",
          "name": "stdout",
          "text": [
            "Initialized!\n",
            "hello David!\n",
            "Good-bye David!\n"
          ]
        }
      ]
    },
    {
      "cell_type": "markdown",
      "source": [
        "![image.png](data:image/png;base64,iVBORw0KGgoAAAANSUhEUgAAAloAAABaCAYAAABgxPjDAAAAAXNSR0IArs4c6QAAAARnQU1BAACxjwv8YQUAAAAJcEhZcwAAEnQAABJ0Ad5mH3gAAAqBSURBVHhe7dxrcts6DIDROr+7qG6l7urqbqIL6J7cwdRIEYQgIYnU8zsznFgiCT5kV7iKc2+/fv16fv/+/QsAAAD6env9BAAAQGckWgAAAIOQaAEAAAxCogUAADAIiRYAAMAgJFoAAACDkGgBAAAM0ky0fv/+/Xp1HEecMwAAOJ9qoiUJy7dv315HxyFzJtkCAABbCxOtKMk6SgIzItmSeLbMZftmXpcsGX9tc9eoeqy19371nlP02uu9joiMUyp7YueTeX0Etflm1xsV5Ni9qr2Oykij42OMt+fz+XqJGnmDS/JmC296nJl/v/d6z/O5Gat03aSw732V9ljK0n3mOp1P8YmWXGh5wxxdjze9iPajV3wgQ9+HW77neM8fF9duHewzPP7qcBA+aOcm/5gCwBXI/Yx72nyfEi3ZzDPdRJb+10VrP7jh4mqWfqYAHIt85vncz3d7PB7P+/3+OmwnFlrvNzzqs1U7S+c8x5K+JX7+JTJea1xf7+NGfae003lYvv3U+hLbpxRP52K1xvVKMYSe13j2tYjiRvGEj6lse19X4ttnjmtjiqntIr6+FU/4NirTtjS/Funj59mSWYfo3U5F8/VxSqRf1F/5ej328X2MVr0qtfNjil7j+jg+5px4LTqG72tpfbadvi6x/W1cKxoj025uzEwsH9f3yYzpY6pS25ZsLG0XadV/IonW169f38ufP38+HPsi9aU2ezrnS6ZNVJb0jYrGjH7616XSarvknJ6P6rRMHSP6qSXqm23nz9kS1fv4vl2tX+m8FB/Tni8dRz9tifra42y/bDt77Iutz8SzZUrszLnop3/dKqW2a5yzpVavddFP/7pUfL0cT+0z9dyU87ZE/fyxPVeqj+pa56Kf/nWplPqUSqm+1kfqsn2mnMu2tSUTy7ep1dXOZdu2SjZWK/bUsWd9R6uUyfksMcr4Rre7mpH7V2qv5sSrqcWzeo8rSvGWGhGzJbsv2XYZva9H73hZ2XF7t1tTbU6RHuuN9BhX1OKoKfGWsmPV4kdzasmsI4odzWfuPCSWj5eJtcb8Iplxo3mIaO41w74Mn51IbUFTF3NFW+3fluNeTemDXdv/NfW+Hke+vnbuW65D3helcqS9HfG+kj0omTuW318tR9rnpWSttb2NXGmPxPC/OvRvwtIF0QsV1Svbxpar22r/suOOYMfdYvy17X29vefXO95WtliHfC5L5Yh67p/sQY84yu+vFk/O+fHkuNT2aHQv565F+9uyFz2v29BESyflS4mtjzbctvHlSGS+9oL54zmkr5Y198/GqI1r1+ePp9K+vhyNzDm7L3LOl73ofT2y8eRcdv+20HtfpO+e19tb7/0TNo7El+JpnY7lj/GPvT5z2P62nNGnREsWWnrzTbXkjakbvvU8RGseUV2Puc/Vc/+mWGNciS1jYDv2GvS+Hme5vld7n8paZc1e6VzGGvsn8aN592bHWWNtI8n8l67hKHvQ67oN/9Vhiy5iiR4xjmqr/bvynq9J9jn6cNt/BLC9q18LfT/aMvfG1NvVr00vek33cl2Pophotf4BL9X5D1UUw5+rtcvGs+2sWt0Uc8ZeOm40prDjZueWbZe1Zjwr2+6Kon3x1yPbrsS36309trq+tXGz6822O5LsepWcs2Uu6dtz/2rxlsxzCp3DGuP1Xq/06zn32vx6qMWJxo3WpnNdsvZP/8NSFQXW836y0SSidj7+0nglfoylpozdUlp/KZ4fU2TaRXOb0i6qs+bGi+KX4pXaRuPW4mbOt45VdF5M6dMarzaO0Hr70/J9p7Qr8e1UFE/H82z7Vr2I4mWOW2rtbZ21tJ2fp4rOK1/fOm7Jtpd2lu9Ti1OqWzqu9vdxMseWrbOmxs3K9rPzzI5bqrNxRKlvFLM2VsT3yRxbWmfb+T4qOi9afeSnFcVRtbEywkRLLA2+pSPPHZgq+37nc4FRSu8t3m//sRfbm3MNely36ne0JLgMcjS8oQFgXXq/sOXq/w6zF8fU+7pVn2gBAABgvs3/6hAAAOCsSLQAAAAGCRMt+d1kT2eJ13vcOWpz2MP8AADAP7t6okWSAAAAzoRfHQIAAAzy9nw+Xy/H6v2nrVv9qSx/ogsAALJ4ogUAADDI7efPn88fP368Dv+T70tFT2+0zn+nqva0pxWvZG48MWVuohVPRe2iNSjfJzu/UrvaXGt1AABgXbMTLeHrlyYAU5KEqWO1YmfHnjJHkZ3LlHMimkOpDwAA2MbsXx3u9WYeJRpyTpOUtUSJUmZ+tXYAAOAYTvcdrb0kIlGiBAAAruO0X4aXRMeXvSjNTQoAADiXUyZakrTI0yRf1qLjR/y8bAEAAOdxukSrleSMtvX4JGsAAOzHaX91eET8+hAAgHM55ZfhSwnLGklM5mlWbX6279x1tOoBAMB63m632+vl9jS50DKXjyNFzkXJSw8a145pixXNz8u2AwAA+3R7PB7P+/3+OsTRkYwBALAffEfrZEiyAADYDxItAACAQUi0AAAABiHRAgAAGOQ90ZIvUY+UjT96HkrGKZW1zRmz1meLNQAAgLJLP9GSL477QqICAAB64VeHDskWAADohURrY5LYAQCAcyLRKuCpFgAA6OFToiUJhi2RbLve9jpuay5RfaafLQAA4Dg+JFpyI9cvhWsp3dyz7XpjXJ60AQBwJB8SLbmRe/7mrjd/b3QSsPdxa/OIYtTUxgUAAMfAd7QaSGwAAMBcsxItedpSKmeWWW/pqZYck6wBAHBNsxItSRyickaaLF1hrQAAoB9+dVhgn0JNfSIlbfWp1hZPs0gAAQDYj66JliYYAAAAmJFo2Sc21uinN2uN6+PVxo1onyXzmjOuaNUDAID13B6Px/N+v1cTg1Kdv6G3kopafKvVbuq4ER9HRfGicaP5ttahWu1K49b6ZMcFAADjvSdaOAcSLQAA9oMvw58MSRYAAPvxdrvdXi8BAADQE0+0AAAABiHRAgAAGKSYaMkXqm3Zypyxt5xvht1XW9Y2Z8xany3WAADA3n1KtOSGKV+otoWbaF9+f9ljAADO6UOipUmWRyIwHnsMAMD58B2tiyol1AAAoK/3RCt6mqW4MY/HUy0AAM5l9hMtSQhsifRul9WK1xrD19tYrb49tcZtzSWqz/SzBQAATDcr0ZIbrzx9saV0M+7dLmvv8bKuNi4AAGcTJlpyY/VFz8uN1/M34x7tLGnXKiozrj+25LzGsK+tWv8esuPW5hHFqKmNCwAApnl7Pp+vlx/JjdWWrfn5lMqZnG09AABc0aX/6lCSGf80qPRER86Vyhoy42bXAQAA1nXpRCtLEpaojKTJ0ppjAgCAft4TLbmBl56WnJ1d99ZPgez4U+ey9Tq23DcAAPYq9URLb+D4iH0BAAA1HxIt+1RE+acjpTZiRLu5MuNaOodSfW1+Ubw5fLzauBHts2Rec8YVrXoAAK7o9ng8nvf7/XX4j71p6k3b38D9jTW6uS9p58fM0D7ZcVVrrKnxIj6OiuJF40bzba1DtdqVxq31yY4LAMCVFBOtqyFJWI49BADgs8smWvaJDQkCAAAYgSdaAAAAg/D/0QIAABiERAsAAGCIL1/+Agw2SEblBZ1VAAAAAElFTkSuQmCC)"
      ],
      "metadata": {
        "id": "uTJGcfU8VLyL"
      }
    },
    {
      "cell_type": "markdown",
      "source": [
        "### 1.5 넘파이 (Numpy)\n",
        "- 배열이나 행렬 계산에 많이 사용되는 Numpy 라이브러리에 대해 다룹니다."
      ],
      "metadata": {
        "id": "TmT8MJiaWpMS"
      }
    },
    {
      "cell_type": "markdown",
      "source": [
        "##### 1.5.1 넘파이 가져오기"
      ],
      "metadata": {
        "id": "9i3FfLgiW453"
      }
    },
    {
      "cell_type": "code",
      "source": [
        "import numpy as np # np라는 이름으로 numpy 가져오기\n",
        "\n",
        "# import:파이썬에서 라이브러리를 읽기 위해 사용한다"
      ],
      "metadata": {
        "id": "vb_HRnlsXBBU"
      },
      "execution_count": 29,
      "outputs": []
    },
    {
      "cell_type": "markdown",
      "source": [
        "##### 1.5.2 넘파이 배열 생성하기"
      ],
      "metadata": {
        "id": "0zic_lw4XeVX"
      }
    },
    {
      "cell_type": "code",
      "source": [
        "import numpy as np \n",
        "\n",
        "x = np.array([1.0, 2.0, 3.0])\n",
        "print(x)\n",
        "print(type(x))\n",
        "\n",
        "# np.array()는 파이썬의 리스트를 인수로 받아 배열로 반환한다."
      ],
      "metadata": {
        "colab": {
          "base_uri": "https://localhost:8080/"
        },
        "id": "fzkSKBgoXeVX",
        "outputId": "d7f0874c-5f90-4707-c907-6f2f7d88b125"
      },
      "execution_count": 30,
      "outputs": [
        {
          "output_type": "stream",
          "name": "stdout",
          "text": [
            "[1. 2. 3.]\n",
            "<class 'numpy.ndarray'>\n"
          ]
        }
      ]
    },
    {
      "cell_type": "markdown",
      "source": [
        "##### 1.5.3 넘파이의 산술 연산"
      ],
      "metadata": {
        "id": "CfP_8MohXed5"
      }
    },
    {
      "cell_type": "code",
      "source": [
        "import numpy as np\n",
        "x = np.array([1.0, 2.0, 3.0])\n",
        "y = np.array([4.0, 5.0, 6.0])\n",
        "\n",
        "print(x + y) # 원소별 덧셈\n",
        "print(x - y) # 원소별 뺄셈\n",
        "print(x * y) # 원소별 곱셈\n",
        "print(x / y) # 원소별 나눗셈\n",
        "\n",
        "# 주의: 배열 x와 y의 원소 수가 같아야 산술 연산이 가능하다"
      ],
      "metadata": {
        "colab": {
          "base_uri": "https://localhost:8080/"
        },
        "id": "PUSrLnLqXed6",
        "outputId": "8d4147da-948a-4df2-c229-820457373708"
      },
      "execution_count": 31,
      "outputs": [
        {
          "output_type": "stream",
          "name": "stdout",
          "text": [
            "[5. 7. 9.]\n",
            "[-3. -3. -3.]\n",
            "[ 4. 10. 18.]\n",
            "[0.25 0.4  0.5 ]\n"
          ]
        }
      ]
    },
    {
      "cell_type": "code",
      "source": [
        "import numpy as np\n",
        "x = np.array([1.0, 2.0, 3.0])\n",
        "print(x / 2.0)"
      ],
      "metadata": {
        "colab": {
          "base_uri": "https://localhost:8080/"
        },
        "outputId": "29f3e8e1-5d9c-4473-8fe0-098f495c6d80",
        "id": "QNPUzr6QYXQ1"
      },
      "execution_count": 32,
      "outputs": [
        {
          "output_type": "stream",
          "name": "stdout",
          "text": [
            "[0.5 1.  1.5]\n"
          ]
        }
      ]
    },
    {
      "cell_type": "markdown",
      "source": [
        "##### 1.5.4 넘파이의 N차원 배열"
      ],
      "metadata": {
        "id": "7mhqdLGxXf-B"
      }
    },
    {
      "cell_type": "code",
      "source": [
        "import numpy as np\n",
        "\n",
        "A = np.array([[1, 2], [3, 4]]) # 2x2의 2차원 배열 A 생성\n",
        "print(A)\n",
        "print(A.shape) # A 행렬의 형상(각 차원의 크기)\n",
        "print(A.dtype) # A 행렬에 담긴 원소의 자료형 확인\n",
        "\n",
        "# 넘파이는 1차원 배열뿐 아니라 다차원 배열도 작성할 수 있다"
      ],
      "metadata": {
        "colab": {
          "base_uri": "https://localhost:8080/"
        },
        "id": "CwOItzHcXf-C",
        "outputId": "f2c468e1-a743-4aee-ceec-abfd7be7c184"
      },
      "execution_count": 33,
      "outputs": [
        {
          "output_type": "stream",
          "name": "stdout",
          "text": [
            "[[1 2]\n",
            " [3 4]]\n",
            "(2, 2)\n",
            "int64\n"
          ]
        }
      ]
    },
    {
      "cell_type": "code",
      "source": [
        "B = np.array([[3, 0], [0, 6]]) # 2x2의 2차원 배열 B 생성\n",
        "print(A + B) # 행렬의 덧셈\n",
        "print(A * B) # 행렬의 곱셈 \n",
        "\n",
        "print(A)\n",
        "print(A * 10) # 브로드캐스트 적용\n",
        "\n",
        "# 브로드캐스트: 스칼라값과의 계산이 넘파이 배열의 원소별로 한 번씩 수행되는 것"
      ],
      "metadata": {
        "colab": {
          "base_uri": "https://localhost:8080/"
        },
        "id": "7A8N9d-WZU1R",
        "outputId": "a434ec4b-1862-4a80-ff27-819a5df85160"
      },
      "execution_count": 34,
      "outputs": [
        {
          "output_type": "stream",
          "name": "stdout",
          "text": [
            "[[ 4  2]\n",
            " [ 3 10]]\n",
            "[[ 3  0]\n",
            " [ 0 24]]\n",
            "[[1 2]\n",
            " [3 4]]\n",
            "[[10 20]\n",
            " [30 40]]\n"
          ]
        }
      ]
    },
    {
      "cell_type": "markdown",
      "source": [
        "##### 1.5.5 브로드캐스트"
      ],
      "metadata": {
        "id": "J9MdfcWiXgow"
      }
    },
    {
      "cell_type": "code",
      "source": [
        "import numpy as np\n",
        "\n",
        "A = np.array([[1, 2], [3, 4]]) # 2x2의 2차원 배열 A 생성\n",
        "B = np.array([10, 20]) # 2x1의 1차원 배열 B 생성\n",
        "C = A * B # 2x2,2x1 -> 2x1 1차원 배열 C 생성\n",
        "\n",
        "print(C) # C배열 출력\n",
        "\n",
        "# 넘파이의 브로드캐스트 기능으로 인해 형상이 다른 배열끼리의 연산이 가능하다"
      ],
      "metadata": {
        "colab": {
          "base_uri": "https://localhost:8080/"
        },
        "id": "tiYph6-_Xgow",
        "outputId": "764ae6ea-e295-40cc-93e5-02a0c822f3f3"
      },
      "execution_count": 37,
      "outputs": [
        {
          "output_type": "stream",
          "name": "stdout",
          "text": [
            "[[10 40]\n",
            " [30 80]]\n"
          ]
        }
      ]
    },
    {
      "cell_type": "markdown",
      "source": [
        "### 1.6 matplotlib\n",
        "- 그래프 그리기와 데이터 시각화에 도움을 주는 matplotlib 라이브러리에 대해 다룹니다."
      ],
      "metadata": {
        "id": "0aPruJHKaxwS"
      }
    },
    {
      "cell_type": "markdown",
      "source": [
        "##### 1.6.1 단순한 그래프 그리기"
      ],
      "metadata": {
        "id": "azb1UgpIaxwS"
      }
    },
    {
      "cell_type": "code",
      "source": [
        "import numpy as np # np라는 이름으로 numpy 가져오기\n",
        "import matplotlib.pyplot as plt # plt라는 이름으로 matplotlib.pyplot 가져오기\n",
        "\n",
        "# 데이터 준비\n",
        "x = np.arange(0, 6, 0.1) # 0에서 6까지 0.1 간격으로 생성\n",
        "y = np.sin(x) # sin함수 생성\n",
        "\n",
        "# 그래프 그리기\n",
        "plt.plot(x, y)\n",
        "plt.show()\n",
        "\n",
        "# Numpy.arange 메서드: [시작값, 끝값, 간격]\n",
        "# x와 y를 인수로 plt.plot 메서드를 호출해 그래프 그리기\n",
        "# plt.show 메서드를 호출해 그래프를 화면에 출력하기"
      ],
      "metadata": {
        "colab": {
          "base_uri": "https://localhost:8080/",
          "height": 265
        },
        "id": "PgOB8_7KaxwT",
        "outputId": "d736e8b5-477e-498f-d0d0-e72c6c421ff6"
      },
      "execution_count": 40,
      "outputs": [
        {
          "output_type": "display_data",
          "data": {
            "text/plain": [
              "<Figure size 432x288 with 1 Axes>"
            ],
            "image/png": "[encoded data removed]"
          },
          "metadata": {
            "needs_background": "light"
          }
        }
      ]
    },
    {
      "cell_type": "markdown",
      "source": [
        "##### 1.6.2 pyplot의 기능"
      ],
      "metadata": {
        "id": "JCR7w54faxwT"
      }
    },
    {
      "cell_type": "code",
      "source": [
        "import numpy as np \n",
        "import matplotlib.pyplot as plt\n",
        "\n",
        "# 데이터 준비\n",
        "x = np.arange(0, 6, 0.1) # 0에서 6까지 0.1 간격으로 데이터 생성\n",
        "y1 = np.sin(x) # sin함수 생성\n",
        "y2 = np.cos(x) # cos함수 생성\n",
        "\n",
        "# 그래프 그리기\n",
        "plt.plot(x, y1, label='sin') # 범례: sin\n",
        "plt.plot(x, y2, linestyle=\"--\", label='cos') # cos 함수는 점선으로 그리기, 범례: cos\n",
        "plt.xlabel(\"x\") # x축 이름\n",
        "plt.ylabel(\"y\") # y축 이름\n",
        "plt.title('sin & cos') # 제목\n",
        "plt.legend() # 그래프에 범례 표시\n",
        "plt.show()"
      ],
      "metadata": {
        "colab": {
          "base_uri": "https://localhost:8080/",
          "height": 295
        },
        "outputId": "1fa0edca-7d51-473b-f3c8-c1e93e8d159d",
        "id": "-036gKLvaxwT"
      },
      "execution_count": 42,
      "outputs": [
        {
          "output_type": "display_data",
          "data": {
            "text/plain": [
              "<Figure size 432x288 with 1 Axes>"
            ],
            "image/png": "[encoded data removed]"
          },
          "metadata": {
            "needs_background": "light"
          }
        }
      ]
    },
    {
      "cell_type": "markdown",
      "source": [
        "##### 1.6.3 이미지 표시하기"
      ],
      "metadata": {
        "id": "yjT3yWn-axwX"
      }
    },
    {
      "cell_type": "code",
      "source": [
        "from google.colab import drive # google drive와 Colab 연결하기\n",
        "drive.mount('/content/drive')\n",
        "\n",
        "from matplotlib.image import imread\n",
        "import matplotlib.pyplot as plt\n",
        "\n",
        "img = imread('/content/drive/My Drive/cactus.png') # 이미지 파일 불러오기\n",
        "\n",
        "plt.imshow(img)\n",
        "plt.show()"
      ],
      "metadata": {
        "colab": {
          "base_uri": "https://localhost:8080/",
          "height": 287
        },
        "outputId": "6ede14b2-001f-4d35-d9b4-12c66df83e7d",
        "id": "X258ozugaxwX"
      },
      "execution_count": 79,
      "outputs": [
        {
          "output_type": "stream",
          "name": "stdout",
          "text": [
            "Mounted at /content/drive\n"
          ]
        },
        {
          "output_type": "display_data",
          "data": {
            "text/plain": [
              "<Figure size 432x288 with 1 Axes>"
            ],
            "image/png": "[encoded data removed]"
          },
          "metadata": {
            "needs_background": "light"
          }
        }
      ]
    },
    {
      "cell_type": "markdown",
      "source": [
        "### 1.7 정리\n",
        "- Chapter 1은 딥러닝으로의 본격적인 여정을 위한 준비 과정입니다."
      ],
      "metadata": {
        "id": "9T3ISDBHm4bD"
      }
    }
  ]
}